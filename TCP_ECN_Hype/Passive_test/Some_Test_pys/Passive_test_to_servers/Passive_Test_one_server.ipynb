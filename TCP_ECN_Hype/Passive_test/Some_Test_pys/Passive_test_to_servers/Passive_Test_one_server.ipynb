{
 "cells": [
  {
   "cell_type": "code",
   "execution_count": 4,
   "metadata": {},
   "outputs": [
    {
     "name": "stdout",
     "output_type": "stream",
     "text": [
      "Sending regular ping to 194.1.147.65\n",
      "\n",
      "Sent 1 packets.\n",
      ".Sending ICMP Echo Request with ECT(0) to 194.1.147.65\n",
      "\n",
      "Sent 1 packets.\n",
      ".Sending HTTPS GET request (SYN packet only) with ECT(0) to 194.1.147.65\n",
      "\n",
      "Sent 1 packets.\n",
      ".Sending TCP packet with SYN + ECN-Echo flags and ECT(0)\n",
      "\n",
      "Sent 1 packets.\n",
      ".Sending TCP packet with SYN + ECN-Echo + CWR flags and ECT(0)\n",
      "\n",
      "Sent 1 packets.\n",
      ".Sending TCP packet with SYN + ECN-Echo + CWR flags without ECT\n",
      "\n",
      "Sent 1 packets.\n",
      ".Sending TCP packet with SYN + ECN-Echo flags without ECT\n",
      "\n",
      "Sent 1 packets.\n",
      ".Done.\n"
     ]
    }
   ],
   "source": [
    "from scapy.all import *\n",
    "import socket\n",
    "import time\n",
    "import random\n",
    "\n",
    "# Resolve the domain to an IP\n",
    "target_ip = socket.gethostbyname('itu.edu.tr')\n",
    "\n",
    "def send_tcp_packet(dst_ip, dst_port, flags, tos=0x00, payload=None):\n",
    "    sport = random.randint(1024, 65535)\n",
    "    seq = random.randint(0, 1000000)\n",
    "    ip = IP(dst=dst_ip, tos=tos)\n",
    "    tcp = TCP(sport=sport, dport=dst_port, flags=flags, seq=seq)\n",
    "    packet = ip/tcp\n",
    "    if payload:\n",
    "        packet = packet/Raw(load=payload)\n",
    "    send(packet)\n",
    "    time.sleep(2)\n",
    "\n",
    "def send_quic_packet(dst_ip, dst_port, tos=0x00):\n",
    "    sport = random.randint(1024, 65535)\n",
    "    udp = UDP(sport=sport, dport=dst_port)\n",
    "    payload = b'\\x43\\x02'  # Example QUIC-like payload; actual QUIC payloads are more complex\n",
    "    packet = IP(dst=dst_ip, tos=tos)/udp/Raw(load=payload)\n",
    "    send(packet)\n",
    "    time.sleep(2)\n",
    "\n",
    "# Step 1: Send a regular ICMP ping\n",
    "print(f\"Sending regular ping to {target_ip}\")\n",
    "icmp_ping = IP(dst=target_ip)/ICMP()\n",
    "send(icmp_ping)\n",
    "time.sleep(2)\n",
    "\n",
    "# Step 2: Send an ICMP echo request with ECT(0)\n",
    "print(f\"Sending ICMP Echo Request with ECT(0) to {target_ip}\")\n",
    "send(IP(dst=target_ip, tos=0x02)/ICMP())\n",
    "time.sleep(2)\n",
    "\n",
    "# Step 3: Send a TCP SYN packet with ECT(0) to port 443 (HTTPS port)\n",
    "print(f\"Sending TCP SYN packet with ECT(0) to {target_ip} on port 443\")\n",
    "send_tcp_packet(target_ip, 443, 'S', 0x02)\n",
    "\n",
    "# Step 4: Send a TCP packet with SYN + ECN-Echo (E) flag set with ECT(0)\n",
    "print(\"Sending TCP packet with SYN + ECN-Echo flags and ECT(0) to port 443\")\n",
    "send_tcp_packet(target_ip, 443, 'SE', 0x02)\n",
    "\n",
    "# Step 5: Send a TCP packet with SYN + ECN-Echo + CWR flags set with ECT(0)\n",
    "print(\"Sending TCP packet with SYN + ECN-Echo + CWR flags and ECT(0) to port 443\")\n",
    "send_tcp_packet(target_ip, 443, 'SEC', 0x02)\n",
    "\n",
    "# Step 6: Send a non-ECT TCP packet with SYN + ECN-Echo + CWR flags set to port 443\n",
    "print(\"Sending TCP packet with SYN + ECN-Echo + CWR flags without ECT to port 443\")\n",
    "send_tcp_packet(target_ip, 443, 'SEC')\n",
    "\n",
    "# Step 7: Send a non-ECT TCP packet with SYN + ECN-Echo flags set to port 443\n",
    "print(\"Sending TCP packet with SYN + ECN-Echo flags without ECT to port 443\")\n",
    "send_tcp_packet(target_ip, 443, 'SE')\n",
    "\n",
    "# Step 8: Send a QUIC packet with ECT(0)\n",
    "print(\"Sending QUIC packet with ECT(0) to port 443\")\n",
    "send_quic_packet(target_ip, 443, 0x02)\n",
    "\n",
    "print(\"Done.\")\n"
   ]
  }
 ],
 "metadata": {
  "kernelspec": {
   "display_name": "Python 3.11.5 ('base')",
   "language": "python",
   "name": "python3"
  },
  "language_info": {
   "codemirror_mode": {
    "name": "ipython",
    "version": 3
   },
   "file_extension": ".py",
   "mimetype": "text/x-python",
   "name": "python",
   "nbconvert_exporter": "python",
   "pygments_lexer": "ipython3",
   "version": "3.11.5"
  },
  "orig_nbformat": 4,
  "vscode": {
   "interpreter": {
    "hash": "bf8845a42094226f8e4f9caf8bded73f4194f411efa5a8f87bba1448e05fc51d"
   }
  }
 },
 "nbformat": 4,
 "nbformat_minor": 2
}
